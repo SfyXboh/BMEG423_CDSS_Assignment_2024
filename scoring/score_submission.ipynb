{
 "cells": [
  {
   "cell_type": "code",
   "execution_count": 16,
   "id": "1ce7f8e1-28d0-4958-a1f9-611c1879492d",
   "metadata": {},
   "outputs": [
    {
     "name": "stdout",
     "output_type": "stream",
     "text": [
      "200112\n",
      "41993\n",
      "391288\n"
     ]
    }
   ],
   "source": [
    "import numpy as np, os, sys\n",
    "import pandas as pd\n",
    "from tqdm import tqdm\n",
    "\n",
    "## Load all the data so we explore it. \n",
    "pfile = '../Data/training_2024-11-04.pickle'\n",
    "pfile_test = '../Data/testing_2024-11-04.pickle'\n",
    "pfile_scoring = '../Data/evaluation_2024-11-04.pickle'\n",
    "if os.path.isfile(pfile):\n",
    "    SEPSISdat = pd.DataFrame.from_dict(pd.read_pickle(pfile))\n",
    "    print(len(SEPSISdat.patient)) # should be n=200112\n",
    "\n",
    "if os.path.isfile(pfile_test):\n",
    "    SEPSISdat_test = pd.DataFrame.from_dict(pd.read_pickle(pfile_test))\n",
    "    print(len(SEPSISdat_test.patient)) # should be n=41993\n",
    "\n",
    "if os.path.isfile(pfile_scoring):\n",
    "    SEPSISdat_scoring = pd.DataFrame.from_dict(pd.read_pickle(pfile_scoring))\n",
    "    print(len(SEPSISdat_scoring.patient)) # should be n=391288, but you don't have this hidden file"
   ]
  },
  {
   "cell_type": "code",
   "execution_count": 20,
   "id": "344265d7-7d2e-4e5c-819f-abbc949a11bb",
   "metadata": {},
   "outputs": [
    {
     "name": "stdout",
     "output_type": "stream",
     "text": [
      "Loading sepsis model...\n",
      "Predicting sepsis labels...\n"
     ]
    },
    {
     "name": "stderr",
     "output_type": "stream",
     "text": [
      "100%|███████████████████████████████████████████████████████████████████████████████████████████████████████████████████████████████████████████| 1000/1000 [00:21<00:00, 46.72it/s]\n",
      "100%|██████████████████████████████████████████████████████████████████████████████████████████████████████████████████████████████████████████| 1000/1000 [00:07<00:00, 136.04it/s]\n"
     ]
    },
    {
     "name": "stdout",
     "output_type": "stream",
     "text": [
      "0.3384 21\n"
     ]
    },
    {
     "name": "stderr",
     "output_type": "stream",
     "text": [
      "  3%|████▏                                                                                                                                      | 304/10000 [00:21<11:32, 14.01it/s]\n"
     ]
    },
    {
     "ename": "KeyboardInterrupt",
     "evalue": "",
     "output_type": "error",
     "traceback": [
      "\u001b[0;31m---------------------------------------------------------------------------\u001b[0m",
      "\u001b[0;31mKeyboardInterrupt\u001b[0m                         Traceback (most recent call last)",
      "Cell \u001b[0;32mIn[20], line 48\u001b[0m\n\u001b[1;32m     46\u001b[0m \u001b[38;5;28mprint\u001b[39m(utility,elapsed)\n\u001b[1;32m     47\u001b[0m \u001b[38;5;28;01mif\u001b[39;00m os\u001b[38;5;241m.\u001b[39mpath\u001b[38;5;241m.\u001b[39misfile(pfile_scoring):\n\u001b[0;32m---> 48\u001b[0m     score_eval, labels_eval, utility, elapsed \u001b[38;5;241m=\u001b[39m \u001b[43mscore_cohort\u001b[49m\u001b[43m(\u001b[49m\u001b[43mSEPSISdat_scoring\u001b[49m\u001b[43m)\u001b[49m\n\u001b[1;32m     49\u001b[0m     \u001b[38;5;28mprint\u001b[39m(utility,elapsed)\n",
      "Cell \u001b[0;32mIn[20], line 34\u001b[0m, in \u001b[0;36mscore_cohort\u001b[0;34m(cohort)\u001b[0m\n\u001b[1;32m     32\u001b[0m \u001b[38;5;28;01mfor\u001b[39;00m t \u001b[38;5;129;01min\u001b[39;00m \u001b[38;5;28mrange\u001b[39m(num_rows):\n\u001b[1;32m     33\u001b[0m   current_data \u001b[38;5;241m=\u001b[39m data[:t\u001b[38;5;241m+\u001b[39m\u001b[38;5;241m1\u001b[39m]\n\u001b[0;32m---> 34\u001b[0m   current_score, current_label \u001b[38;5;241m=\u001b[39m \u001b[43mget_sepsis_score\u001b[49m\u001b[43m(\u001b[49m\u001b[43mcurrent_data\u001b[49m\u001b[43m,\u001b[49m\u001b[43m \u001b[49m\u001b[43mmodel\u001b[49m\u001b[43m)\u001b[49m\n\u001b[1;32m     35\u001b[0m   scores[ct] \u001b[38;5;241m=\u001b[39m current_score[\u001b[38;5;241m0\u001b[39m]\n\u001b[1;32m     36\u001b[0m   labels[ct] \u001b[38;5;241m=\u001b[39m current_label\n",
      "File \u001b[0;32m~/Desktop/BMEG423/Assignments/CDSS/scoring/get_sepsis_score_gbm.py:20\u001b[0m, in \u001b[0;36mget_sepsis_score\u001b[0;34m(data, model)\u001b[0m\n\u001b[1;32m     17\u001b[0m     data[i][mask] \u001b[38;5;241m=\u001b[39m data[i \u001b[38;5;241m-\u001b[39m \u001b[38;5;241m1\u001b[39m][mask]\n\u001b[1;32m     19\u001b[0m x \u001b[38;5;241m=\u001b[39m data[\u001b[38;5;241m-\u001b[39m\u001b[38;5;241m1\u001b[39m, \u001b[38;5;241m0\u001b[39m:\u001b[38;5;241m23\u001b[39m]\n\u001b[0;32m---> 20\u001b[0m x_norm \u001b[38;5;241m=\u001b[39m \u001b[43mnp\u001b[49m\u001b[38;5;241;43m.\u001b[39;49m\u001b[43mnan_to_num\u001b[49m\u001b[43m(\u001b[49m\u001b[43m(\u001b[49m\u001b[43mx\u001b[49m\u001b[43m \u001b[49m\u001b[38;5;241;43m-\u001b[39;49m\u001b[43m \u001b[49m\u001b[43mx_mean\u001b[49m\u001b[43m)\u001b[49m\u001b[43m \u001b[49m\u001b[38;5;241;43m/\u001b[39;49m\u001b[43m \u001b[49m\u001b[43mx_std\u001b[49m\u001b[43m)\u001b[49m\n\u001b[1;32m     21\u001b[0m x_norm \u001b[38;5;241m=\u001b[39m np\u001b[38;5;241m.\u001b[39marray(x_norm)\n\u001b[1;32m     22\u001b[0m x_norm \u001b[38;5;241m=\u001b[39m x_norm\u001b[38;5;241m.\u001b[39mreshape(\u001b[38;5;241m-\u001b[39m\u001b[38;5;241m1\u001b[39m,\u001b[38;5;241m23\u001b[39m)\n",
      "File \u001b[0;32m/usr/local/lib/python3.11/site-packages/numpy/lib/type_check.py:508\u001b[0m, in \u001b[0;36mnan_to_num\u001b[0;34m(x, copy, nan, posinf, neginf)\u001b[0m\n\u001b[1;32m    505\u001b[0m iscomplex \u001b[38;5;241m=\u001b[39m \u001b[38;5;28missubclass\u001b[39m(xtype, _nx\u001b[38;5;241m.\u001b[39mcomplexfloating)\n\u001b[1;32m    507\u001b[0m dest \u001b[38;5;241m=\u001b[39m (x\u001b[38;5;241m.\u001b[39mreal, x\u001b[38;5;241m.\u001b[39mimag) \u001b[38;5;28;01mif\u001b[39;00m iscomplex \u001b[38;5;28;01melse\u001b[39;00m (x,)\n\u001b[0;32m--> 508\u001b[0m maxf, minf \u001b[38;5;241m=\u001b[39m \u001b[43m_getmaxmin\u001b[49m\u001b[43m(\u001b[49m\u001b[43mx\u001b[49m\u001b[38;5;241;43m.\u001b[39;49m\u001b[43mreal\u001b[49m\u001b[38;5;241;43m.\u001b[39;49m\u001b[43mdtype\u001b[49m\u001b[43m)\u001b[49m\n\u001b[1;32m    509\u001b[0m \u001b[38;5;28;01mif\u001b[39;00m posinf \u001b[38;5;129;01mis\u001b[39;00m \u001b[38;5;129;01mnot\u001b[39;00m \u001b[38;5;28;01mNone\u001b[39;00m:\n\u001b[1;32m    510\u001b[0m     maxf \u001b[38;5;241m=\u001b[39m posinf\n",
      "File \u001b[0;32m/usr/local/lib/python3.11/site-packages/numpy/lib/type_check.py:394\u001b[0m, in \u001b[0;36m_getmaxmin\u001b[0;34m(t)\u001b[0m\n\u001b[1;32m    393\u001b[0m \u001b[38;5;28;01mdef\u001b[39;00m \u001b[38;5;21m_getmaxmin\u001b[39m(t):\n\u001b[0;32m--> 394\u001b[0m     \u001b[38;5;28;01mfrom\u001b[39;00m \u001b[38;5;21;01mnumpy\u001b[39;00m\u001b[38;5;21;01m.\u001b[39;00m\u001b[38;5;21;01mcore\u001b[39;00m \u001b[38;5;28;01mimport\u001b[39;00m getlimits\n\u001b[1;32m    395\u001b[0m     f \u001b[38;5;241m=\u001b[39m getlimits\u001b[38;5;241m.\u001b[39mfinfo(t)\n\u001b[1;32m    396\u001b[0m     \u001b[38;5;28;01mreturn\u001b[39;00m f\u001b[38;5;241m.\u001b[39mmax, f\u001b[38;5;241m.\u001b[39mmin\n",
      "File \u001b[0;32m<frozen importlib._bootstrap>:1207\u001b[0m, in \u001b[0;36m_handle_fromlist\u001b[0;34m(module, fromlist, import_, recursive)\u001b[0m\n",
      "\u001b[0;31mKeyboardInterrupt\u001b[0m: "
     ]
    }
   ],
   "source": [
    "import evaluate_sepsis_score as ev\n",
    "import time\n",
    "#from get_sepsis_score_lr import load_sepsis_model, get_sepsis_score\n",
    "from get_sepsis_score_gbm import load_sepsis_model, get_sepsis_score\n",
    "# Load model.\n",
    "print('Loading sepsis model...')\n",
    "model = load_sepsis_model()\n",
    "\n",
    "# Iterate over files.\n",
    "print('Predicting sepsis labels...')\n",
    "\n",
    "def score_cohort(cohort):\n",
    "    pats = np.unique(cohort.patient)\n",
    "    num_patients = len(pats)\n",
    "    scores = np.zeros(len(cohort))\n",
    "    labels = np.full(len(cohort),False)\n",
    "    ct = 0\n",
    "\n",
    "    starttime = time.time()\n",
    "    for k in tqdm(range(num_patients)):\n",
    "      p = pats[k]\n",
    "      data = cohort[cohort.patient==p] \n",
    "      data = data.drop(columns='patient')\n",
    "      # Ignore SepsisLabel column if present.\n",
    "      column_names = cohort.columns\n",
    "      if column_names[-1] == 'SepsisLabel':\n",
    "        column_names = column_names[:-1]\n",
    "        data = data.drop(columns='SepsisLabel')\n",
    "      # Make predictions.\n",
    "      num_rows = len(data)\n",
    "      data = data.to_numpy() \n",
    "      for t in range(num_rows):\n",
    "        current_data = data[:t+1]\n",
    "        current_score, current_label = get_sepsis_score(current_data, model)\n",
    "        scores[ct] = current_score[0]\n",
    "        labels[ct] = current_label\n",
    "        ct+=1\n",
    "    elapsed = round(time.time() - starttime)\n",
    "    util = ev.evaluate_utility(cohort.patient,cohort.SepsisLabel,labels)\n",
    "    \n",
    "    return scores, labels, util, elapsed\n",
    "\n",
    "score_train, labels_train, utility, elapsed = score_cohort(SEPSISdat)\n",
    "print(utility,elapsed)\n",
    "score_test, labels_test, utility, elapsed = score_cohort(SEPSISdat_test)\n",
    "print(utility,elapsed)\n",
    "if os.path.isfile(pfile_scoring):\n",
    "    score_eval, labels_eval, utility, elapsed = score_cohort(SEPSISdat_scoring)\n",
    "    print(utility,elapsed)"
   ]
  },
  {
   "cell_type": "code",
   "execution_count": null,
   "id": "0767e90e-72ca-4c35-9733-ba493c443c48",
   "metadata": {},
   "outputs": [],
   "source": []
  }
 ],
 "metadata": {
  "kernelspec": {
   "display_name": "Python 3 (ipykernel)",
   "language": "python",
   "name": "python3"
  },
  "language_info": {
   "codemirror_mode": {
    "name": "ipython",
    "version": 3
   },
   "file_extension": ".py",
   "mimetype": "text/x-python",
   "name": "python",
   "nbconvert_exporter": "python",
   "pygments_lexer": "ipython3",
   "version": "3.11.10"
  }
 },
 "nbformat": 4,
 "nbformat_minor": 5
}
